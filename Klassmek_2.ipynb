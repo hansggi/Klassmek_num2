{
 "cells": [
  {
   "cell_type": "markdown",
   "metadata": {},
   "source": [
    "## Klassisk mekanikk numerisk øving 2\n",
    "Eirik Jaccheri Høydalsvik, Hans Gløckner Giil"
   ]
  },
  {
   "cell_type": "code",
   "execution_count": null,
   "metadata": {},
   "outputs": [],
   "source": [
    "import numpy as np\n",
    "import matplotlib.pyplot as plt"
   ]
  },
  {
   "cell_type": "code",
   "execution_count": null,
   "metadata": {},
   "outputs": [],
   "source": [
    "#some constants\n",
    "t0 = 0\n",
    "g = 9.81\n",
    "l, m = 1, 1\n",
    "F_d = 0.2\n",
    "omega = np.sqrt(g / l) #NB; we will use omega as a helping constant, and thetaDot as the time-derivative of the angle\n",
    "\n",
    "theta0 = 0.2\n",
    "thetaDot0 = 0\n",
    "u0 = np.array((theta0, thetaDot0))\n",
    "\n",
    "#RK4, solves differential equation f. here: u0 = [theta, theta_dot]\n",
    "def kutta_4(f, u0, t0, tNum, dt, q, F_d, omega_d):\n",
    "    U = np.zeros( ((tNum),  u0.size) )\n",
    "    U[0] = u0\n",
    "    for i in range(1 ,tNum):\n",
    "        F1 = f(i * dt, U[i-1], q, F_d, omega_d)\n",
    "        F2 = f(i * dt + dt / 2, U[i-1] + dt  / 2 * F1, q, F_d, omega_d)\n",
    "        F3 = f(i * dt + dt / 2, U[i-1] + dt / 2 * F2, q, F_d, omega_d)\n",
    "        F4 = f(i * dt + dt, U[i-1] + dt * F3, q, F_d, omega_d)\n",
    "        U[i] = U[i-1] + dt / 6 * (F1 + 2* F2 + 2 * F3 + F4)        \n",
    "    return U\n",
    "\n",
    "def f_driven (t, u, q, F_d , omega_d):#with driving force F(t) / m / l = D_d * sin(omega_d* t) \n",
    "    return np.array([u[1], - omega**2 *u[0]- q * u[1]  + F_d * np.sin(omega_d * t)])\n",
    "\n",
    "\n",
    "def energy(u_arr): #Y is array containing vectors with theta, thetaDot at different times\n",
    "    return pot(u_arr) + kin(u_arr)\n",
    "\n",
    "def pot(u_arr):\n",
    "    return  m * g * l * u_arr.T[0]**2 / 2\n",
    "\n",
    "def kin(u_arr):\n",
    "    return 0.5 * m * ( l * u_arr.T[1])**2\n",
    "\n",
    "def work(u_arr): #difference between starting energy and energy at different times\n",
    "    return energy(u_arr)[0] - energy(u_arr)"
   ]
  },
  {
   "cell_type": "code",
   "execution_count": null,
   "metadata": {},
   "outputs": [],
   "source": [
    "#plot function for plotting theta(t)\n",
    "def plot_theta(u0, t0, tNum, dt, q, plot_work, F_d = 0, omega_d = 0):\n",
    "    fig, (ax1) = plt.subplots(1,1)\n",
    "    #fig.set_size_inches(10, 8)\n",
    "    t_arr = np.linspace(t0, t0 + dt * tNum, tNum)\n",
    "    \n",
    "    ax1.set_title(\"RK4, q =  \" + str(q) , fontsize = 18)\n",
    "    ax1.set_xlabel(\"Time\", fontsize = 18)\n",
    "    ax1.set_ylabel(\"Angle\", fontsize = 18)\n",
    "    #ax1.set(ylim = (-0.25, 0.25))\n",
    "    u_arr = kutta_4(f_driven, u0, t0, tNum,  dt, q, F_d, omega_d)#array of [theta, theta_dot] values\n",
    "    l1, = ax1.plot(t_arr, u_arr.T[0]) #UK.T gives [theta0, theta1 .... theta_tNum]\n",
    "    if plot_work:\n",
    "        #Bruker _tw for twin-axis\n",
    "        ax1_tw = ax1.twinx()\n",
    "        l1_tw, = ax1_tw.plot(t_arr, work(u_arr), color = \"tab:red\" ) #Replace energy with work to get work done by friction\n",
    "        ax1_tw.set(ylim = (-1, 1))\n",
    "        ax1_tw.set_ylabel(\"Work / J\", fontsize = 18)\n",
    "        ax1.legend((l1, l1_tw), (\"Angle\", \"Friction work\"), loc = \"upper left\", fontsize = 18)\n",
    "\n",
    "    plt.tight_layout()\n",
    "    return u_arr\n",
    "\n",
    "def plot_theta_comparison(u0, t0, tNum, dt, omega_d_arr,q, F_d = 0 ):\n",
    "    num = len(omega_d_arr)\n",
    "    fig, ax = plt.subplots()\n",
    "    #fig.set_size_inches(10, 8)\n",
    "    t_arr = np.linspace(t0, t0 + dt * tNum, tNum)\n",
    "    \n",
    "    fig.suptitle(\"FIgure 5\", y = 0)\n",
    "    ax.set_xlabel(\"Time\", fontsize = 18)\n",
    "    ax.set_ylabel(\"Angle\", fontsize = 18)\n",
    "    fig.set_size_inches(12,8)\n",
    "    for omega_d in omega_d_arr:\n",
    "        u_arr = kutta_4(f_driven, u0, t0, tNum,  dt, q, F_d, omega_d)#array of [theta, theta_dot] values\n",
    "        l1, = ax.plot(t_arr, u_arr.T[0], label = \"$\\omega_D$ = \" + str(round(omega_d, 2))) #UK.T gives [theta0, theta1 .... theta_tNum]\n",
    "    ax.legend(fontsize = 16)\n",
    "    plt.show()\n",
    "        "
   ]
  },
  {
   "cell_type": "code",
   "execution_count": null,
   "metadata": {},
   "outputs": [],
   "source": [
    "def under(t,q,theta0,theta_dot):\n",
    "    phi = np.arctan(np.sqrt(omega**2 - q**2/4)/ (theta_dot / theta0 + (q / 2)))\n",
    "    A = theta0 / np.sin(phi)\n",
    "    return A * np.exp(-q * t / 2) * np.sin(np.sqrt(omega**2 - q**2 / 4)*t + phi)\n",
    "\n",
    "def critical(t,q,theta0,theta_dot):\n",
    "    return (theta0 * (1 + q/2 * t) + theta_dot) * np.exp(-q * t / 2)\n",
    "\n",
    "def over(t,q,theta0,theta_dot):\n",
    "    lam_p, lam_m = -q/2 + np.sqrt(q**2/4 - omega**2), -q/2 - np.sqrt(q**2/4 - omega**2)\n",
    "    A = (theta_dot / theta0 - lam_m) / (lam_p - lam_m)\n",
    "    B = (theta_dot / theta0 - lam_p) / (lam_m - lam_p)\n",
    "    return theta0 * (A * np.exp(lam_p * t) + B * np.exp(lam_m * t))\n",
    "\n",
    "def forced(f,t,q,omega_d,F_d):\n",
    "    A = F_d * (omega**2 - omega_d**2) / ((omega**2 - omega**2)**2 - (q * omega_d)**2)\n",
    "    B = F_d * q * omega_d / ((omega**2 - omega_d**2)**2 - (q*omega_d)**2)\n",
    "    return A * np.sin(omega_d * t) + B * np.cos(omega_d * t) + f(t,q,theta0 - B, -omega_d*A)\n"
   ]
  },
  {
   "cell_type": "markdown",
   "metadata": {},
   "source": [
    "## Exercise 1 - Damped harmonic motion of pendulum\n",
    "Figur xxxx viser de 3 tilfellene for theta0 = xx, theta_dot0 = xx, bla bla. Figur yy viser analytisk løsning."
   ]
  },
  {
   "cell_type": "code",
   "execution_count": null,
   "metadata": {},
   "outputs": [],
   "source": [
    "#bruk plot_theta til å plotte for 3 tilfeller : q <  2 * sqrt( g /l) (underdamped) , q > .. (verdamped),\n",
    "# q  .. (critically damped). q_crit printet nedenfor.  Finn analytisk løsning og plot denne\n",
    "\n",
    "t_num1, dt1 = 10000, 0.005\n",
    "print(\" Critical q value: \", np.sqrt(4 * omega **2))\n",
    "#for q in np.arange(1, 10, 1):\n",
    "q = 1\n",
    "#    print( \"q: \", q)\n",
    "u_arr = plot_theta(u0,t0,t_num1, dt1, q ,plot_work = True)\n"
   ]
  },
  {
   "cell_type": "markdown",
   "metadata": {},
   "source": [
    "## Exercise 2 - Forced harmonic damped pendulum\n",
    "Figure $5$ shows the motion of the forced and damped pendulum as a functon of time, for 3 different values of the driving frequency $\\omega_D$. The amplitude is largest for the value $\\omega_D = 3.1$, because this is the value that is closest to $\\omega = \\sqrt{g / L}$.\n",
    "Figure $6$ shows the amplitude of the pendulum after some time, when the pendulum oscillates steadily, as a function of $\\omega = \\sqrt{g / l}$ . The largest amplitude happens when $ \\omega_D = \\omega$, in this case $\\omega_D \\approx 3.1$, the so called resonnance frequency. In figure XX+1 the amplitude from the analytic expression  $$\n",
    "\\theta_0 = \\frac{F_D}{\\sqrt{(\\Omega^2 - \\Omega_D^2)^2 + (q \\Omega_D)^2} }\n",
    "$$ is plotted agains values of $\\omega_D$. This analytic solution is plotted for the same values of $q$ as the numerical solution. It is clear that the numerical expression is similar to the analytical plot. We see that for increasing $q$, the curve grows smaller and the peak wider, in accordance with the analytic expression for $\\theta_0$.\n"
   ]
  },
  {
   "cell_type": "code",
   "execution_count": null,
   "metadata": {},
   "outputs": [],
   "source": [
    "#plot for different omega_d-values\n",
    "t_num2, dt2 = 1000, 0.05\n",
    "F_d2, omega_d2 = 0.2, 3.1321\n",
    "omega_d2_arr = np.array((1, 3.1, 5))\n",
    "plot_theta_comparison(u0, t0, t_num2, dt2, omega_d2_arr, q,  F_d2)"
   ]
  },
  {
   "cell_type": "code",
   "execution_count": null,
   "metadata": {},
   "outputs": [],
   "source": [
    "#function that makes a bode-plot, showing amplitude of the final steady state solution as a function of omega_d\n",
    "#does this for all values of q in q_arr. t_num : number of time steps, dt = length of time step. \n",
    "def bode_plot(t_num, dt,q_arr, omega_d_arr):    \n",
    "    omega = np.sqrt(g / l)\n",
    "    fig, (ax1, ax2) = plt.subplots(1,2) #ax1 = numerical, ax2 = analytic\n",
    "    fig.set_size_inches(16, 8)\n",
    "    fig.suptitle(\"Figure 6\", y = 0)\n",
    "    #numerical \n",
    "    ax1.set_title(\"Numerical solution\")\n",
    "    ax1.set(xlabel = \"$\\omega_D$\")\n",
    "    ax1.set(ylabel = \"Amplitude\")\n",
    "    magnitude_arr = np.zeros(len(omega_d_arr))\n",
    "    for q in q_arr:\n",
    "        i = 0\n",
    "        for omega_d in omega_d_arr:\n",
    "            u_arr = kutta_4(f_driven, u0, t0, t_num,  dt, q, F_d, omega_d)[:, 0] #take only theta-values\n",
    "            m = (np.amax(u_arr[- int(2 * np.pi / omega_d / dt):]))\n",
    "            magnitude_arr[i] = m  \n",
    "            i +=1\n",
    "        l1, = ax1.plot(omega_d_arr, magnitude_arr, label = \"q = \" + str(round(q, 2)))\n",
    "    #analytical\n",
    "    for q in q_arr:\n",
    "        l1, = ax2.plot(omega_d_arr, F_d / np.sqrt((omega**2 - omega_d_arr**2)**2 + (q * omega_d_arr)**2), label = \"q = \" + str(round(q, 2)))\n",
    "    ax2.set_title(\"Analytical solution\")\n",
    "    ax2.set(xlabel = \"$\\omega_D$\")\n",
    "    ax2.set(ylabel = \"Amplitude\")\n",
    "    plt.legend()\n",
    "    plt.show()   "
   ]
  },
  {
   "cell_type": "code",
   "execution_count": null,
   "metadata": {},
   "outputs": [],
   "source": [
    "t_num3, dt3 = 1000, 0.05\n",
    "omega_d_arr3, q_arr3 = np.linspace(1, 6, 200), np.linspace(0.5, 2, 7)                         \n",
    " \n",
    "bode_plot(t_num3, dt3, q_arr3, omega_d_arr3)"
   ]
  },
  {
   "cell_type": "code",
   "execution_count": null,
   "metadata": {},
   "outputs": [],
   "source": []
  }
 ],
 "metadata": {
  "kernelspec": {
   "display_name": "Python 3",
   "language": "python",
   "name": "python3"
  },
  "language_info": {
   "codemirror_mode": {
    "name": "ipython",
    "version": 3
   },
   "file_extension": ".py",
   "mimetype": "text/x-python",
   "name": "python",
   "nbconvert_exporter": "python",
   "pygments_lexer": "ipython3",
   "version": "3.7.1"
  }
 },
 "nbformat": 4,
 "nbformat_minor": 2
}
