{
 "cells": [
  {
   "cell_type": "markdown",
   "metadata": {},
   "source": [
    "## Klassisk mekanikk numerisk øving 2\n",
    "Eirik Jaccheri Høydalsvik, Hans Gløckner Giil"
   ]
  },
  {
   "cell_type": "code",
   "execution_count": null,
   "metadata": {},
   "outputs": [],
   "source": [
    "import numpy as np\n",
    "import matplotlib.pyplot as plt"
   ]
  },
  {
   "cell_type": "code",
   "execution_count": null,
   "metadata": {},
   "outputs": [],
   "source": [
    "#some constants\n",
    "t0 = 0\n",
    "g = 9.81\n",
    "l, m = 1, 1\n",
    "omega = np.sqrt(g / l) #NB; we will use omega as a helping constant, and thetaDot as the time-derivative of the angle\n",
    "\n",
    "theta0 = 0.2\n",
    "thetaDot0 = 0\n",
    "u0 = np.array((theta0, thetaDot0))\n",
    "\n",
    "#RK4, solves differential equation f. here: u0 = [theta, theta_dot]\n",
    "def kutta_4(f, u0, t0, tNum, dt, q, F_d, omega_d):\n",
    "    U = np.zeros( ((tNum),  u0.size) )\n",
    "    U[0] = u0\n",
    "    for i in range(1 ,tNum):\n",
    "        F1 = f(i * dt, U[i-1], q, F_d, omega_d)\n",
    "        F2 = f(i * dt + dt / 2, U[i-1] + dt  / 2 * F1, q, F_d, omega_d)\n",
    "        F3 = f(i * dt + dt / 2, U[i-1] + dt / 2 * F2, q, F_d, omega_d)\n",
    "        F4 = f(i * dt + dt, U[i-1] + dt * F3, q, F_d, omega_d)\n",
    "        U[i] = U[i-1] + dt / 6 * (F1 + 2* F2 + 2 * F3 + F4)        \n",
    "    return U\n",
    "\n",
    "def f(t, u, q): #differential equation for damped pendulum. u = [theta, thetaDot]. q : damping constant. \n",
    "    return np.array([u[1], - omega**2 *u[0]- q * u[1] ]) \n",
    "\n",
    "def f_driven (t, u, q, F_d , omega_d):#with driving force F(t) / m / l = D_d * sin(omega_d* t) \n",
    "    return np.array([u[1], - omega**2 *u[0]- q * u[1]  + F_d * np.sin(omega_d * t)])\n",
    "\n",
    "\n",
    "def energy(u_arr): #Y is array containing vectors with theta, thetaDot at different times\n",
    "    return pot(u_arr) + kin(u_arr)\n",
    "\n",
    "def pot(u_arr):\n",
    "    return  m * g * l * u_arr.T[0]**2 / 2\n",
    "\n",
    "def kin(u_arr):\n",
    "    return 0.5 * m * ( l * u_arr.T[1])**2\n",
    "\n",
    "def work(u_arr): #difference between starting energy and energy at different times\n",
    "    return energy(u_arr)[0] - energy(u_arr)"
   ]
  },
  {
   "cell_type": "code",
   "execution_count": null,
   "metadata": {},
   "outputs": [],
   "source": [
    "#plot function\n",
    "def plot_comparison(u0, t0, tNum, dt, q, plot_work, F_d = 0, omega_d = 0 ):\n",
    "    fig, (ax1) = plt.subplots(1,1)\n",
    "    fig.set_size_inches(10, 8)\n",
    "    \n",
    "    t_arr = np.linspace(t0, t0 + dt * tNum, tNum)\n",
    "    \n",
    "    ax1.set_title(\"RK4, q =  \" + str(q) , fontsize = 18)\n",
    "    ax1.set_xlabel(\"Time\", fontsize = 18)\n",
    "    ax1.set_ylabel(\"Angle\", fontsize = 18)\n",
    "    #ax1.set(ylim = (-0.25, 0.25))\n",
    "    u_arr = kutta_4(f_driven, u0, t0, tNum,  dt, q, F_d, omega_d)#array of [theta, theta_dot] values\n",
    "    l1, = ax1.plot(t_arr, u_arr.T[0]) #UK.T gives [theta0, theta1 .... theta_tNum]\n",
    "    if plot_work:\n",
    "        #Bruker _tw for twin-axis\n",
    "        ax1_tw = ax1.twinx()\n",
    "        l1_tw, = ax1_tw.plot(t_arr, work(u_arr), color = \"tab:red\" ) #Replace energy with work to get work done by friction\n",
    "        ax1_tw.set(ylim = (-1, 1))\n",
    "        ax1_tw.set_ylabel(\"Work / J\", fontsize = 18)\n",
    "        ax1.legend((l1, l1_tw), (\"Angle\", \"Friction work\"), loc = \"upper left\", fontsize = 18)\n",
    "\n",
    "    plt.tight_layout()\n",
    "    plt.show()\n",
    "    return u_arr"
   ]
  },
  {
   "cell_type": "markdown",
   "metadata": {},
   "source": [
    "## Exercise 1 - Damped harmonic motion of pendulum\n",
    "Figur xxxx viser de 3 tilfellene for theta0 = xx, theta_dot0 = xx, bla bla. Figur yy viser analytisk løsning."
   ]
  },
  {
   "cell_type": "code",
   "execution_count": null,
   "metadata": {},
   "outputs": [],
   "source": [
    "#bruk plot_comparison til å plotte for 3 tilfeller : q <  2 * sqrt( g /l) (underdamped) , q > .. (verdamped),\n",
    "# q  .. (critically damped). q_crit printet nedenfor.  Finn analytisk løsning og plot denne\n",
    "\n",
    "t_num1, dt1 = 10000, 0.0005\n",
    "print(\" Critical q value: \", np.sqrt(4 * g / l))\n",
    "#for q in np.arange(1, 10, 1):\n",
    "q = 1\n",
    "#    print( \"q: \", q)\n",
    "u_arr = plot_comparison(u0,t0,t_num1, dt1, q ,plot_work = True)\n",
    "np.amin(np.gradient(work(u_arr)))"
   ]
  },
  {
   "cell_type": "markdown",
   "metadata": {},
   "source": [
    "## Exercise 2 - Forced harmonic damped pendulum\n"
   ]
  },
  {
   "cell_type": "code",
   "execution_count": null,
   "metadata": {},
   "outputs": [],
   "source": [
    "t_num2, dt2 = 100000, 0.0005\n",
    "F_d2, omega_d2 = 0.2, 3.1321\n",
    "q2 = 1\n",
    "print(\"Omega: \", round(omega, 4), \"Omega_d : \", omega_d2)\n",
    "plot_comparison(u0, t0, t_num2, dt2, q2, False, F_d2, omega_d2)"
   ]
  }
 ],
 "metadata": {
  "kernelspec": {
   "display_name": "Python 3",
   "language": "python",
   "name": "python3"
  },
  "language_info": {
   "codemirror_mode": {
    "name": "ipython",
    "version": 3
   },
   "file_extension": ".py",
   "mimetype": "text/x-python",
   "name": "python",
   "nbconvert_exporter": "python",
   "pygments_lexer": "ipython3",
   "version": "3.7.1"
  }
 },
 "nbformat": 4,
 "nbformat_minor": 2
}
